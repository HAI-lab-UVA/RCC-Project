{
 "cells": [
  {
   "attachments": {},
   "cell_type": "markdown",
   "metadata": {},
   "source": [
    "# Lexical Reduction\n",
    "\n",
    "Hashing-based technique to reduce sequence datasets in CSV format to the lexical format used by SPMF (https://www.philippe-fournier-viger.com/spmf). Useful for applying Sequential Pattern/Rule Mining approaches to non-text data."
   ]
  },
  {
   "cell_type": "code",
   "execution_count": 1,
   "metadata": {},
   "outputs": [],
   "source": [
    "import pandas as pd\n",
    "import json"
   ]
  },
  {
   "cell_type": "code",
   "execution_count": 2,
   "metadata": {},
   "outputs": [],
   "source": [
    "# Load data as pandas DataFrame \n",
    "df = pd.read_csv('../Data Sources/Cleaned/US_RCC_Database_CLEANED.csv', skipinitialspace=True)\n",
    "df = df.infer_objects()\n",
    "df = df.drop(['Database ID', 'COMMENTS'], axis=1)"
   ]
  },
  {
   "cell_type": "code",
   "execution_count": 3,
   "metadata": {},
   "outputs": [],
   "source": [
    "# Exclude non-categorical feats (TODO: Bin these)\n",
    "df = df.select_dtypes(exclude = ['float64', 'datetime64[ns]'])"
   ]
  },
  {
   "cell_type": "code",
   "execution_count": 4,
   "metadata": {},
   "outputs": [],
   "source": [
    "# Create output file\n",
    "with open(\"encoded_dataset.txt\", \"w\") as file:\n",
    "    file.write(\"\")\n",
    "\n",
    "output = open(\"encoded_dataset.txt\", \"a\")"
   ]
  },
  {
   "cell_type": "code",
   "execution_count": 5,
   "metadata": {},
   "outputs": [],
   "source": [
    "token_dict = {}\n",
    "i = 0\n",
    "\n",
    "for sample, row in df.iterrows():\n",
    "    token_seq = []\n",
    "    for index, value in row.items():\n",
    "        key = index + \"@\" + str(value)\n",
    "        if key not in token_dict:\n",
    "            token_dict[key] = str(i)\n",
    "            i += 1\n",
    "        token_seq.append(token_dict[key])\n",
    "    token_seq.append(\"-2\")\n",
    "    output.write(\" -1 \".join(token_seq))\n",
    "    output.write(\"\\n\")\n",
    "\n",
    "output.close()"
   ]
  },
  {
   "cell_type": "code",
   "execution_count": 6,
   "metadata": {},
   "outputs": [],
   "source": [
    "# Save dict to get values back out later\n",
    "with open(\"token_mapping.json\", \"w\") as file:\n",
    "    json.dump(token_dict, file)"
   ]
  }
 ],
 "metadata": {
  "kernelspec": {
   "display_name": "rcc-project",
   "language": "python",
   "name": "python3"
  },
  "language_info": {
   "codemirror_mode": {
    "name": "ipython",
    "version": 3
   },
   "file_extension": ".py",
   "mimetype": "text/x-python",
   "name": "python",
   "nbconvert_exporter": "python",
   "pygments_lexer": "ipython3",
   "version": "3.10.13"
  },
  "orig_nbformat": 4
 },
 "nbformat": 4,
 "nbformat_minor": 2
}

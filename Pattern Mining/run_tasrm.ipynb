{
 "cells": [
  {
   "cell_type": "markdown",
   "metadata": {},
   "source": [
    "# Run TaSRM on tokenized CSV data\n",
    "\n",
    "This notebook executes the JAR for TaSRM. See [README.md](README.md) for more details."
   ]
  },
  {
   "cell_type": "code",
   "execution_count": null,
   "metadata": {},
   "outputs": [],
   "source": [
    "min_support = 0.5\n",
    "min_confidence = 0.5\n",
    "input_file = \"encoded_dataset.txt\"\n",
    "output_file = \"tasrm_out.txt\"\n",
    "x_query = \"0\" # Dummy\n",
    "y_query = \"1\" # Dummy"
   ]
  },
  {
   "cell_type": "code",
   "execution_count": null,
   "metadata": {},
   "outputs": [],
   "source": [
    "with open(output_file, 'w') as out:\n",
    "    out.write(\"\")"
   ]
  },
  {
   "cell_type": "code",
   "execution_count": null,
   "metadata": {},
   "outputs": [],
   "source": [
    "!java -jar runtasrm/runtasrm.jar -s {min_support} -c {min_confidence} -i {input_file} -o {output_file} -x {x_query}"
   ]
  }
 ],
 "metadata": {
  "kernelspec": {
   "display_name": "rcc-project",
   "language": "python",
   "name": "python3"
  },
  "language_info": {
   "codemirror_mode": {
    "name": "ipython",
    "version": 3
   },
   "file_extension": ".py",
   "mimetype": "text/x-python",
   "name": "python",
   "nbconvert_exporter": "python",
   "pygments_lexer": "ipython3",
   "version": "3.10.13"
  }
 },
 "nbformat": 4,
 "nbformat_minor": 2
}

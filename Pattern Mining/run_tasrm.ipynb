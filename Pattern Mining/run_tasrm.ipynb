{
 "cells": [
  {
   "cell_type": "markdown",
   "metadata": {},
   "source": [
    "# Run TaSRM on tokenized CSV data\n",
    "\n",
    "This notebook executes the JAR for TaSRM. See [README.md](README.md) for more details."
   ]
  },
  {
   "cell_type": "code",
   "execution_count": 1,
   "metadata": {},
   "outputs": [],
   "source": [
    "import pandas as pd\n",
    "from token_translator import TokenTranslator"
   ]
  },
  {
   "cell_type": "markdown",
   "metadata": {},
   "source": [
    "## Load dataset and tokenize it"
   ]
  },
  {
   "cell_type": "code",
   "execution_count": 2,
   "metadata": {},
   "outputs": [],
   "source": [
    "# Load data as pandas DataFrame \n",
    "df = pd.read_csv('../Data Sources/Cleaned/US_RCC_Database_CLEANED.csv', skipinitialspace=True)\n",
    "df = df.infer_objects()\n",
    "df = df.drop(['Database ID', 'COMMENTS'], axis=1)"
   ]
  },
  {
   "cell_type": "code",
   "execution_count": 3,
   "metadata": {},
   "outputs": [],
   "source": [
    "# Exclude non-categorical feats (TODO: Bin these)\n",
    "df = df.select_dtypes(exclude = ['float64', 'datetime64[ns]'])"
   ]
  },
  {
   "cell_type": "code",
   "execution_count": 4,
   "metadata": {},
   "outputs": [],
   "source": [
    "translator = TokenTranslator(df)\n",
    "translator.build_mapping(save_path=\"token_mapping.json\")\n",
    "_ = translator.encode_data(save_path=\"encoded_dataset.txt\")"
   ]
  },
  {
   "cell_type": "markdown",
   "metadata": {},
   "source": [
    "## Test scenario: sequential rules for omental flap to pelvis"
   ]
  },
  {
   "cell_type": "code",
   "execution_count": 5,
   "metadata": {},
   "outputs": [
    {
     "data": {
      "text/plain": [
       "array(['no', nan, 'yes'], dtype=object)"
      ]
     },
     "execution_count": 5,
     "metadata": {},
     "output_type": "execute_result"
    }
   ],
   "source": [
    "df['Omental Flap to Pelvis'].unique()"
   ]
  },
  {
   "cell_type": "code",
   "execution_count": 6,
   "metadata": {},
   "outputs": [],
   "source": [
    "ofp_no = translator.get_token(\"Omental Flap to Pelvis\", 'no')"
   ]
  },
  {
   "cell_type": "code",
   "execution_count": 8,
   "metadata": {},
   "outputs": [],
   "source": [
    "min_support = 0.2\n",
    "min_confidence = 0.9\n",
    "input_file = \"encoded_dataset.txt\"\n",
    "output_file = \"tasrm_out.txt\""
   ]
  },
  {
   "cell_type": "code",
   "execution_count": 9,
   "metadata": {},
   "outputs": [],
   "source": [
    "# Wipe output\n",
    "with open(output_file, 'w') as out:\n",
    "    out.write(\"\")"
   ]
  },
  {
   "cell_type": "code",
   "execution_count": 73,
   "metadata": {},
   "outputs": [
    {
     "name": "stdout",
     "output_type": "stream",
     "text": [
      "Query rule: 178 -> \n",
      "database size: 84\n",
      "^C\n"
     ]
    }
   ],
   "source": [
    "!java -jar runtasrm/runtasrm.jar -s {min_support} -c {min_confidence} -i {input_file} -o {output_file} -x {ofp_no}"
   ]
  }
 ],
 "metadata": {
  "kernelspec": {
   "display_name": "rcc-project",
   "language": "python",
   "name": "python3"
  },
  "language_info": {
   "codemirror_mode": {
    "name": "ipython",
    "version": 3
   },
   "file_extension": ".py",
   "mimetype": "text/x-python",
   "name": "python",
   "nbconvert_exporter": "python",
   "pygments_lexer": "ipython3",
   "version": "3.10.13"
  }
 },
 "nbformat": 4,
 "nbformat_minor": 2
}
